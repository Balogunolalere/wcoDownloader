{
 "cells": [
  {
   "cell_type": "code",
   "execution_count": 1,
   "id": "fbcc6778-2da2-45ef-befd-73fd671dfcb8",
   "metadata": {},
   "outputs": [
    {
     "name": "stdout",
     "output_type": "stream",
     "text": [
      "Defaulting to user installation because normal site-packages is not writeable\n",
      "Requirement already satisfied: pyppeteer in /home/doombuggy_/.local/lib/python3.10/site-packages (1.0.2)\n",
      "Requirement already satisfied: urllib3<2.0.0,>=1.25.8 in /usr/lib/python3/dist-packages (from pyppeteer) (1.26.5)\n",
      "Requirement already satisfied: tqdm<5.0.0,>=4.42.1 in /home/doombuggy_/.local/lib/python3.10/site-packages (from pyppeteer) (4.66.1)\n",
      "Requirement already satisfied: websockets<11.0,>=10.0 in /home/doombuggy_/.local/lib/python3.10/site-packages (from pyppeteer) (10.4)\n",
      "Requirement already satisfied: appdirs<2.0.0,>=1.4.3 in /home/doombuggy_/.local/lib/python3.10/site-packages (from pyppeteer) (1.4.4)\n",
      "Requirement already satisfied: importlib-metadata>=1.4 in /usr/lib/python3/dist-packages (from pyppeteer) (4.6.4)\n",
      "Requirement already satisfied: pyee<9.0.0,>=8.1.0 in /home/doombuggy_/.local/lib/python3.10/site-packages (from pyppeteer) (8.2.2)\n",
      "Requirement already satisfied: certifi>=2021 in /home/doombuggy_/.local/lib/python3.10/site-packages (from pyppeteer) (2023.7.22)\n",
      "Note: you may need to restart the kernel to use updated packages.\n"
     ]
    }
   ],
   "source": [
    "pip install pyppeteer"
   ]
  },
  {
   "cell_type": "code",
   "execution_count": null,
   "id": "6fb5dbec-fe96-44c6-87b7-7ce5c65583e9",
   "metadata": {},
   "outputs": [],
   "source": [
    "import asyncio\n",
    "from pyppeteer import launch\n",
    "\n",
    "async def main():\n",
    "    browser = await launch()\n",
    "    page = await browser.newPage()\n",
    "\n",
    "    # Perform actions on the page\n",
    "\n",
    "    await browser.close()\n",
    "\n",
    "\n",
    "asyncio.get_event_loop().run_until_complete(main())"
   ]
  },
  {
   "cell_type": "code",
   "execution_count": null,
   "id": "82dc6f8c-26f9-4a44-ab65-1d12decb7b66",
   "metadata": {},
   "outputs": [],
   "source": []
  }
 ],
 "metadata": {
  "kernelspec": {
   "display_name": "Python 3 (ipykernel)",
   "language": "python",
   "name": "python3"
  },
  "language_info": {
   "codemirror_mode": {
    "name": "ipython",
    "version": 3
   },
   "file_extension": ".py",
   "mimetype": "text/x-python",
   "name": "python",
   "nbconvert_exporter": "python",
   "pygments_lexer": "ipython3",
   "version": "3.10.12"
  }
 },
 "nbformat": 4,
 "nbformat_minor": 5
}
